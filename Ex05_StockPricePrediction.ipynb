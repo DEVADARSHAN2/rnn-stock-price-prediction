{
  "nbformat": 4,
  "nbformat_minor": 0,
  "metadata": {
    "colab": {
      "provenance": []
    },
    "kernelspec": {
      "name": "python3",
      "display_name": "Python 3"
    },
    "language_info": {
      "name": "python"
    }
  },
  "cells": [
    {
      "cell_type": "code",
      "execution_count": null,
      "metadata": {
        "id": "AAJ-XpOEDvrP"
      },
      "outputs": [],
      "source": [
        "import numpy as np\n",
        "import matplotlib.pyplot as plt\n",
        "import pandas as pd\n",
        "from sklearn.preprocessing import MinMaxScaler\n",
        "from keras import layers\n",
        "from keras.models import Sequential"
      ]
    },
    {
      "cell_type": "code",
      "source": [
        "dataset_train = pd.read_csv('trainset.csv')\n"
      ],
      "metadata": {
        "id": "tDlGjPVID_UB"
      },
      "execution_count": null,
      "outputs": []
    },
    {
      "cell_type": "code",
      "source": [
        "dataset_train.columns"
      ],
      "metadata": {
        "colab": {
          "base_uri": "https://localhost:8080/"
        },
        "id": "_dS7876OEBKA",
        "outputId": "25438bc4-90e3-4127-97e1-e05cc89d8540"
      },
      "execution_count": null,
      "outputs": [
        {
          "output_type": "execute_result",
          "data": {
            "text/plain": [
              "Index(['Date', 'Open', 'High', 'Low', 'Close', 'Adj Close', 'Volume'], dtype='object')"
            ]
          },
          "metadata": {},
          "execution_count": 3
        }
      ]
    },
    {
      "cell_type": "code",
      "source": [
        "dataset_train.head()"
      ],
      "metadata": {
        "colab": {
          "base_uri": "https://localhost:8080/",
          "height": 206
        },
        "id": "7EF-HFkEEDY-",
        "outputId": "5182ed78-e7a5-48b4-effa-2216f2ff62c3"
      },
      "execution_count": null,
      "outputs": [
        {
          "output_type": "execute_result",
          "data": {
            "text/plain": [
              "         Date        Open        High         Low       Close   Adj Close  \\\n",
              "0  2013-01-02  357.385559  361.151062  355.959839  359.288177  359.288177   \n",
              "1  2013-01-03  360.122742  363.600128  358.031342  359.496826  359.496826   \n",
              "2  2013-01-04  362.313507  368.339294  361.488861  366.600616  366.600616   \n",
              "3  2013-01-07  365.348755  367.301056  362.929504  365.001007  365.001007   \n",
              "4  2013-01-08  365.393463  365.771027  359.874359  364.280701  364.280701   \n",
              "\n",
              "    Volume  \n",
              "0  5115500  \n",
              "1  4666500  \n",
              "2  5562800  \n",
              "3  3332900  \n",
              "4  3373900  "
            ],
            "text/html": [
              "\n",
              "  <div id=\"df-0a1289a9-4eb7-4e67-9720-01a0ea5dca03\" class=\"colab-df-container\">\n",
              "    <div>\n",
              "<style scoped>\n",
              "    .dataframe tbody tr th:only-of-type {\n",
              "        vertical-align: middle;\n",
              "    }\n",
              "\n",
              "    .dataframe tbody tr th {\n",
              "        vertical-align: top;\n",
              "    }\n",
              "\n",
              "    .dataframe thead th {\n",
              "        text-align: right;\n",
              "    }\n",
              "</style>\n",
              "<table border=\"1\" class=\"dataframe\">\n",
              "  <thead>\n",
              "    <tr style=\"text-align: right;\">\n",
              "      <th></th>\n",
              "      <th>Date</th>\n",
              "      <th>Open</th>\n",
              "      <th>High</th>\n",
              "      <th>Low</th>\n",
              "      <th>Close</th>\n",
              "      <th>Adj Close</th>\n",
              "      <th>Volume</th>\n",
              "    </tr>\n",
              "  </thead>\n",
              "  <tbody>\n",
              "    <tr>\n",
              "      <th>0</th>\n",
              "      <td>2013-01-02</td>\n",
              "      <td>357.385559</td>\n",
              "      <td>361.151062</td>\n",
              "      <td>355.959839</td>\n",
              "      <td>359.288177</td>\n",
              "      <td>359.288177</td>\n",
              "      <td>5115500</td>\n",
              "    </tr>\n",
              "    <tr>\n",
              "      <th>1</th>\n",
              "      <td>2013-01-03</td>\n",
              "      <td>360.122742</td>\n",
              "      <td>363.600128</td>\n",
              "      <td>358.031342</td>\n",
              "      <td>359.496826</td>\n",
              "      <td>359.496826</td>\n",
              "      <td>4666500</td>\n",
              "    </tr>\n",
              "    <tr>\n",
              "      <th>2</th>\n",
              "      <td>2013-01-04</td>\n",
              "      <td>362.313507</td>\n",
              "      <td>368.339294</td>\n",
              "      <td>361.488861</td>\n",
              "      <td>366.600616</td>\n",
              "      <td>366.600616</td>\n",
              "      <td>5562800</td>\n",
              "    </tr>\n",
              "    <tr>\n",
              "      <th>3</th>\n",
              "      <td>2013-01-07</td>\n",
              "      <td>365.348755</td>\n",
              "      <td>367.301056</td>\n",
              "      <td>362.929504</td>\n",
              "      <td>365.001007</td>\n",
              "      <td>365.001007</td>\n",
              "      <td>3332900</td>\n",
              "    </tr>\n",
              "    <tr>\n",
              "      <th>4</th>\n",
              "      <td>2013-01-08</td>\n",
              "      <td>365.393463</td>\n",
              "      <td>365.771027</td>\n",
              "      <td>359.874359</td>\n",
              "      <td>364.280701</td>\n",
              "      <td>364.280701</td>\n",
              "      <td>3373900</td>\n",
              "    </tr>\n",
              "  </tbody>\n",
              "</table>\n",
              "</div>\n",
              "    <div class=\"colab-df-buttons\">\n",
              "\n",
              "  <div class=\"colab-df-container\">\n",
              "    <button class=\"colab-df-convert\" onclick=\"convertToInteractive('df-0a1289a9-4eb7-4e67-9720-01a0ea5dca03')\"\n",
              "            title=\"Convert this dataframe to an interactive table.\"\n",
              "            style=\"display:none;\">\n",
              "\n",
              "  <svg xmlns=\"http://www.w3.org/2000/svg\" height=\"24px\" viewBox=\"0 -960 960 960\">\n",
              "    <path d=\"M120-120v-720h720v720H120Zm60-500h600v-160H180v160Zm220 220h160v-160H400v160Zm0 220h160v-160H400v160ZM180-400h160v-160H180v160Zm440 0h160v-160H620v160ZM180-180h160v-160H180v160Zm440 0h160v-160H620v160Z\"/>\n",
              "  </svg>\n",
              "    </button>\n",
              "\n",
              "  <style>\n",
              "    .colab-df-container {\n",
              "      display:flex;\n",
              "      gap: 12px;\n",
              "    }\n",
              "\n",
              "    .colab-df-convert {\n",
              "      background-color: #E8F0FE;\n",
              "      border: none;\n",
              "      border-radius: 50%;\n",
              "      cursor: pointer;\n",
              "      display: none;\n",
              "      fill: #1967D2;\n",
              "      height: 32px;\n",
              "      padding: 0 0 0 0;\n",
              "      width: 32px;\n",
              "    }\n",
              "\n",
              "    .colab-df-convert:hover {\n",
              "      background-color: #E2EBFA;\n",
              "      box-shadow: 0px 1px 2px rgba(60, 64, 67, 0.3), 0px 1px 3px 1px rgba(60, 64, 67, 0.15);\n",
              "      fill: #174EA6;\n",
              "    }\n",
              "\n",
              "    .colab-df-buttons div {\n",
              "      margin-bottom: 4px;\n",
              "    }\n",
              "\n",
              "    [theme=dark] .colab-df-convert {\n",
              "      background-color: #3B4455;\n",
              "      fill: #D2E3FC;\n",
              "    }\n",
              "\n",
              "    [theme=dark] .colab-df-convert:hover {\n",
              "      background-color: #434B5C;\n",
              "      box-shadow: 0px 1px 3px 1px rgba(0, 0, 0, 0.15);\n",
              "      filter: drop-shadow(0px 1px 2px rgba(0, 0, 0, 0.3));\n",
              "      fill: #FFFFFF;\n",
              "    }\n",
              "  </style>\n",
              "\n",
              "    <script>\n",
              "      const buttonEl =\n",
              "        document.querySelector('#df-0a1289a9-4eb7-4e67-9720-01a0ea5dca03 button.colab-df-convert');\n",
              "      buttonEl.style.display =\n",
              "        google.colab.kernel.accessAllowed ? 'block' : 'none';\n",
              "\n",
              "      async function convertToInteractive(key) {\n",
              "        const element = document.querySelector('#df-0a1289a9-4eb7-4e67-9720-01a0ea5dca03');\n",
              "        const dataTable =\n",
              "          await google.colab.kernel.invokeFunction('convertToInteractive',\n",
              "                                                    [key], {});\n",
              "        if (!dataTable) return;\n",
              "\n",
              "        const docLinkHtml = 'Like what you see? Visit the ' +\n",
              "          '<a target=\"_blank\" href=https://colab.research.google.com/notebooks/data_table.ipynb>data table notebook</a>'\n",
              "          + ' to learn more about interactive tables.';\n",
              "        element.innerHTML = '';\n",
              "        dataTable['output_type'] = 'display_data';\n",
              "        await google.colab.output.renderOutput(dataTable, element);\n",
              "        const docLink = document.createElement('div');\n",
              "        docLink.innerHTML = docLinkHtml;\n",
              "        element.appendChild(docLink);\n",
              "      }\n",
              "    </script>\n",
              "  </div>\n",
              "\n",
              "\n",
              "<div id=\"df-d74e0548-ae80-4b0f-96e8-e4dbf2d5c96b\">\n",
              "  <button class=\"colab-df-quickchart\" onclick=\"quickchart('df-d74e0548-ae80-4b0f-96e8-e4dbf2d5c96b')\"\n",
              "            title=\"Suggest charts\"\n",
              "            style=\"display:none;\">\n",
              "\n",
              "<svg xmlns=\"http://www.w3.org/2000/svg\" height=\"24px\"viewBox=\"0 0 24 24\"\n",
              "     width=\"24px\">\n",
              "    <g>\n",
              "        <path d=\"M19 3H5c-1.1 0-2 .9-2 2v14c0 1.1.9 2 2 2h14c1.1 0 2-.9 2-2V5c0-1.1-.9-2-2-2zM9 17H7v-7h2v7zm4 0h-2V7h2v10zm4 0h-2v-4h2v4z\"/>\n",
              "    </g>\n",
              "</svg>\n",
              "  </button>\n",
              "\n",
              "<style>\n",
              "  .colab-df-quickchart {\n",
              "      --bg-color: #E8F0FE;\n",
              "      --fill-color: #1967D2;\n",
              "      --hover-bg-color: #E2EBFA;\n",
              "      --hover-fill-color: #174EA6;\n",
              "      --disabled-fill-color: #AAA;\n",
              "      --disabled-bg-color: #DDD;\n",
              "  }\n",
              "\n",
              "  [theme=dark] .colab-df-quickchart {\n",
              "      --bg-color: #3B4455;\n",
              "      --fill-color: #D2E3FC;\n",
              "      --hover-bg-color: #434B5C;\n",
              "      --hover-fill-color: #FFFFFF;\n",
              "      --disabled-bg-color: #3B4455;\n",
              "      --disabled-fill-color: #666;\n",
              "  }\n",
              "\n",
              "  .colab-df-quickchart {\n",
              "    background-color: var(--bg-color);\n",
              "    border: none;\n",
              "    border-radius: 50%;\n",
              "    cursor: pointer;\n",
              "    display: none;\n",
              "    fill: var(--fill-color);\n",
              "    height: 32px;\n",
              "    padding: 0;\n",
              "    width: 32px;\n",
              "  }\n",
              "\n",
              "  .colab-df-quickchart:hover {\n",
              "    background-color: var(--hover-bg-color);\n",
              "    box-shadow: 0 1px 2px rgba(60, 64, 67, 0.3), 0 1px 3px 1px rgba(60, 64, 67, 0.15);\n",
              "    fill: var(--button-hover-fill-color);\n",
              "  }\n",
              "\n",
              "  .colab-df-quickchart-complete:disabled,\n",
              "  .colab-df-quickchart-complete:disabled:hover {\n",
              "    background-color: var(--disabled-bg-color);\n",
              "    fill: var(--disabled-fill-color);\n",
              "    box-shadow: none;\n",
              "  }\n",
              "\n",
              "  .colab-df-spinner {\n",
              "    border: 2px solid var(--fill-color);\n",
              "    border-color: transparent;\n",
              "    border-bottom-color: var(--fill-color);\n",
              "    animation:\n",
              "      spin 1s steps(1) infinite;\n",
              "  }\n",
              "\n",
              "  @keyframes spin {\n",
              "    0% {\n",
              "      border-color: transparent;\n",
              "      border-bottom-color: var(--fill-color);\n",
              "      border-left-color: var(--fill-color);\n",
              "    }\n",
              "    20% {\n",
              "      border-color: transparent;\n",
              "      border-left-color: var(--fill-color);\n",
              "      border-top-color: var(--fill-color);\n",
              "    }\n",
              "    30% {\n",
              "      border-color: transparent;\n",
              "      border-left-color: var(--fill-color);\n",
              "      border-top-color: var(--fill-color);\n",
              "      border-right-color: var(--fill-color);\n",
              "    }\n",
              "    40% {\n",
              "      border-color: transparent;\n",
              "      border-right-color: var(--fill-color);\n",
              "      border-top-color: var(--fill-color);\n",
              "    }\n",
              "    60% {\n",
              "      border-color: transparent;\n",
              "      border-right-color: var(--fill-color);\n",
              "    }\n",
              "    80% {\n",
              "      border-color: transparent;\n",
              "      border-right-color: var(--fill-color);\n",
              "      border-bottom-color: var(--fill-color);\n",
              "    }\n",
              "    90% {\n",
              "      border-color: transparent;\n",
              "      border-bottom-color: var(--fill-color);\n",
              "    }\n",
              "  }\n",
              "</style>\n",
              "\n",
              "  <script>\n",
              "    async function quickchart(key) {\n",
              "      const quickchartButtonEl =\n",
              "        document.querySelector('#' + key + ' button');\n",
              "      quickchartButtonEl.disabled = true;  // To prevent multiple clicks.\n",
              "      quickchartButtonEl.classList.add('colab-df-spinner');\n",
              "      try {\n",
              "        const charts = await google.colab.kernel.invokeFunction(\n",
              "            'suggestCharts', [key], {});\n",
              "      } catch (error) {\n",
              "        console.error('Error during call to suggestCharts:', error);\n",
              "      }\n",
              "      quickchartButtonEl.classList.remove('colab-df-spinner');\n",
              "      quickchartButtonEl.classList.add('colab-df-quickchart-complete');\n",
              "    }\n",
              "    (() => {\n",
              "      let quickchartButtonEl =\n",
              "        document.querySelector('#df-d74e0548-ae80-4b0f-96e8-e4dbf2d5c96b button');\n",
              "      quickchartButtonEl.style.display =\n",
              "        google.colab.kernel.accessAllowed ? 'block' : 'none';\n",
              "    })();\n",
              "  </script>\n",
              "</div>\n",
              "\n",
              "    </div>\n",
              "  </div>\n"
            ],
            "application/vnd.google.colaboratory.intrinsic+json": {
              "type": "dataframe",
              "variable_name": "dataset_train",
              "summary": "{\n  \"name\": \"dataset_train\",\n  \"rows\": 1259,\n  \"fields\": [\n    {\n      \"column\": \"Date\",\n      \"properties\": {\n        \"dtype\": \"object\",\n        \"num_unique_values\": 1259,\n        \"samples\": [\n          \"2013-04-23\",\n          \"2017-01-30\",\n          \"2013-03-06\"\n        ],\n        \"semantic_type\": \"\",\n        \"description\": \"\"\n      }\n    },\n    {\n      \"column\": \"Open\",\n      \"properties\": {\n        \"dtype\": \"number\",\n        \"std\": 175.63057351209417,\n        \"min\": 350.053253,\n        \"max\": 1075.199951,\n        \"num_unique_values\": 1228,\n        \"samples\": [\n          727.580017,\n          524.118103,\n          553.40564\n        ],\n        \"semantic_type\": \"\",\n        \"description\": \"\"\n      }\n    },\n    {\n      \"column\": \"High\",\n      \"properties\": {\n        \"dtype\": \"number\",\n        \"std\": 176.62741611717948,\n        \"min\": 350.391052,\n        \"max\": 1078.48999,\n        \"num_unique_values\": 1239,\n        \"samples\": [\n          580.309143,\n          577.489014,\n          517.056946\n        ],\n        \"semantic_type\": \"\",\n        \"description\": \"\"\n      }\n    },\n    {\n      \"column\": \"Low\",\n      \"properties\": {\n        \"dtype\": \"number\",\n        \"std\": 174.73281352959697,\n        \"min\": 345.512787,\n        \"max\": 1063.550049,\n        \"num_unique_values\": 1240,\n        \"samples\": [\n          576.052551,\n          568.403076,\n          518.469177\n        ],\n        \"semantic_type\": \"\",\n        \"description\": \"\"\n      }\n    },\n    {\n      \"column\": \"Close\",\n      \"properties\": {\n        \"dtype\": \"number\",\n        \"std\": 175.82099273815913,\n        \"min\": 349.164032,\n        \"max\": 1077.140015,\n        \"num_unique_values\": 1245,\n        \"samples\": [\n          749.460022,\n          557.812866,\n          927.330017\n        ],\n        \"semantic_type\": \"\",\n        \"description\": \"\"\n      }\n    },\n    {\n      \"column\": \"Adj Close\",\n      \"properties\": {\n        \"dtype\": \"number\",\n        \"std\": 175.82099273815913,\n        \"min\": 349.164032,\n        \"max\": 1077.140015,\n        \"num_unique_values\": 1245,\n        \"samples\": [\n          749.460022,\n          557.812866,\n          927.330017\n        ],\n        \"semantic_type\": \"\",\n        \"description\": \"\"\n      }\n    },\n    {\n      \"column\": \"Volume\",\n      \"properties\": {\n        \"dtype\": \"number\",\n        \"std\": 1672159,\n        \"min\": 7900,\n        \"max\": 23283100,\n        \"num_unique_values\": 1228,\n        \"samples\": [\n          1837200,\n          2000000,\n          1477800\n        ],\n        \"semantic_type\": \"\",\n        \"description\": \"\"\n      }\n    }\n  ]\n}"
            }
          },
          "metadata": {},
          "execution_count": 4
        }
      ]
    },
    {
      "cell_type": "code",
      "source": [
        "train_set = dataset_train.iloc[:,1:2].values\n"
      ],
      "metadata": {
        "id": "E6sLlF_QEFDc"
      },
      "execution_count": null,
      "outputs": []
    },
    {
      "cell_type": "code",
      "source": [
        "type(train_set)\n"
      ],
      "metadata": {
        "colab": {
          "base_uri": "https://localhost:8080/"
        },
        "id": "FeJK8Si1EGtd",
        "outputId": "7bb509fd-f307-4bc8-95e8-4a448163be5d"
      },
      "execution_count": null,
      "outputs": [
        {
          "output_type": "execute_result",
          "data": {
            "text/plain": [
              "numpy.ndarray"
            ]
          },
          "metadata": {},
          "execution_count": 6
        }
      ]
    },
    {
      "cell_type": "code",
      "source": [
        "train_set.shape\n"
      ],
      "metadata": {
        "colab": {
          "base_uri": "https://localhost:8080/"
        },
        "id": "QJuuFz7SEIJa",
        "outputId": "6c8fc05e-44da-4b07-a106-b4fe6dfc4ac1"
      },
      "execution_count": null,
      "outputs": [
        {
          "output_type": "execute_result",
          "data": {
            "text/plain": [
              "(1259, 1)"
            ]
          },
          "metadata": {},
          "execution_count": 7
        }
      ]
    },
    {
      "cell_type": "code",
      "source": [
        "sc = MinMaxScaler(feature_range=(0,1))\n",
        "training_set_scaled = sc.fit_transform(train_set)"
      ],
      "metadata": {
        "id": "De8DluirEJjd"
      },
      "execution_count": null,
      "outputs": []
    },
    {
      "cell_type": "code",
      "source": [
        "training_set_scaled.shape"
      ],
      "metadata": {
        "colab": {
          "base_uri": "https://localhost:8080/"
        },
        "id": "E3lFYcGrELVM",
        "outputId": "b2af0657-17cc-4f51-dad3-3a056cd56b85"
      },
      "execution_count": null,
      "outputs": [
        {
          "output_type": "execute_result",
          "data": {
            "text/plain": [
              "(1259, 1)"
            ]
          },
          "metadata": {},
          "execution_count": 9
        }
      ]
    },
    {
      "cell_type": "code",
      "source": [
        "X_train_array = []\n",
        "y_train_array = []\n",
        "for i in range(60, 1259):\n",
        "  X_train_array.append(training_set_scaled[i-60:i,0])\n",
        "  y_train_array.append(training_set_scaled[i,0])\n",
        "X_train, y_train = np.array(X_train_array), np.array(y_train_array)\n",
        "X_train1 = X_train.reshape((X_train.shape[0], X_train.shape[1],1))"
      ],
      "metadata": {
        "id": "clhEHW1QENCc"
      },
      "execution_count": null,
      "outputs": []
    },
    {
      "cell_type": "code",
      "source": [
        "X_train.shape"
      ],
      "metadata": {
        "colab": {
          "base_uri": "https://localhost:8080/"
        },
        "id": "c3kEUeqKEO5y",
        "outputId": "8d1bd5e7-ddf7-46e7-d9eb-a5be88ac7cb2"
      },
      "execution_count": null,
      "outputs": [
        {
          "output_type": "execute_result",
          "data": {
            "text/plain": [
              "(1199, 60)"
            ]
          },
          "metadata": {},
          "execution_count": 11
        }
      ]
    },
    {
      "cell_type": "code",
      "source": [
        "length = 60\n",
        "n_features = 1"
      ],
      "metadata": {
        "id": "K0I6CMVJEU37"
      },
      "execution_count": null,
      "outputs": []
    },
    {
      "cell_type": "code",
      "source": [
        "model = Sequential()\n",
        "model.add(layers.Bidirectional(layers.SimpleRNN(units=60),input_shape=(length,n_features)))\n",
        "model.add(layers.Dense(1))"
      ],
      "metadata": {
        "id": "iXAbzWGdEW-H"
      },
      "execution_count": null,
      "outputs": []
    },
    {
      "cell_type": "code",
      "source": [
        "model.compile(optimizer='adam', loss='mse')"
      ],
      "metadata": {
        "id": "ELGGhdbuEqkK"
      },
      "execution_count": null,
      "outputs": []
    },
    {
      "cell_type": "code",
      "source": [
        "print(\"Name: DEVADARSHAN A S     Register Number: 212222110007 \")\n",
        "model.summary()\n"
      ],
      "metadata": {
        "colab": {
          "base_uri": "https://localhost:8080/"
        },
        "id": "jYNzcFxHEv9D",
        "outputId": "0de62c77-e1d7-4d8a-d75f-8a8ff1dfec39"
      },
      "execution_count": null,
      "outputs": [
        {
          "output_type": "stream",
          "name": "stdout",
          "text": [
            "Name: DEVADARSHAN A S     Register Number: 212222110007 \n",
            "Model: \"sequential\"\n",
            "_________________________________________________________________\n",
            " Layer (type)                Output Shape              Param #   \n",
            "=================================================================\n",
            " bidirectional (Bidirection  (None, 120)               7440      \n",
            " al)                                                             \n",
            "                                                                 \n",
            " dense (Dense)               (None, 1)                 121       \n",
            "                                                                 \n",
            "=================================================================\n",
            "Total params: 7561 (29.54 KB)\n",
            "Trainable params: 7561 (29.54 KB)\n",
            "Non-trainable params: 0 (0.00 Byte)\n",
            "_________________________________________________________________\n"
          ]
        }
      ]
    },
    {
      "cell_type": "code",
      "source": [
        "model.fit(X_train1,y_train,epochs=100, batch_size=32)"
      ],
      "metadata": {
        "colab": {
          "base_uri": "https://localhost:8080/"
        },
        "id": "74Eig9W8E4nc",
        "outputId": "eba4ab79-b9b7-4263-8907-029fa4dd515c"
      },
      "execution_count": null,
      "outputs": [
        {
          "output_type": "stream",
          "name": "stdout",
          "text": [
            "Epoch 1/100\n",
            "38/38 [==============================] - 3s 17ms/step - loss: 0.0212\n",
            "Epoch 2/100\n",
            "38/38 [==============================] - 1s 17ms/step - loss: 0.0014\n",
            "Epoch 3/100\n",
            "38/38 [==============================] - 1s 18ms/step - loss: 8.7429e-04\n",
            "Epoch 4/100\n",
            "38/38 [==============================] - 1s 17ms/step - loss: 6.5636e-04\n",
            "Epoch 5/100\n",
            "38/38 [==============================] - 1s 25ms/step - loss: 5.8331e-04\n",
            "Epoch 6/100\n",
            "38/38 [==============================] - 1s 23ms/step - loss: 4.6594e-04\n",
            "Epoch 7/100\n",
            "38/38 [==============================] - 1s 17ms/step - loss: 4.0657e-04\n",
            "Epoch 8/100\n",
            "38/38 [==============================] - 1s 17ms/step - loss: 4.6597e-04\n",
            "Epoch 9/100\n",
            "38/38 [==============================] - 1s 17ms/step - loss: 4.3553e-04\n",
            "Epoch 10/100\n",
            "38/38 [==============================] - 1s 17ms/step - loss: 3.4127e-04\n",
            "Epoch 11/100\n",
            "38/38 [==============================] - 1s 17ms/step - loss: 3.4404e-04\n",
            "Epoch 12/100\n",
            "38/38 [==============================] - 1s 17ms/step - loss: 3.1597e-04\n",
            "Epoch 13/100\n",
            "38/38 [==============================] - 1s 18ms/step - loss: 3.4223e-04\n",
            "Epoch 14/100\n",
            "38/38 [==============================] - 1s 18ms/step - loss: 3.1240e-04\n",
            "Epoch 15/100\n",
            "38/38 [==============================] - 1s 27ms/step - loss: 3.2531e-04\n",
            "Epoch 16/100\n",
            "38/38 [==============================] - 1s 28ms/step - loss: 4.0620e-04\n",
            "Epoch 17/100\n",
            "38/38 [==============================] - 1s 33ms/step - loss: 5.0001e-04\n",
            "Epoch 18/100\n",
            "38/38 [==============================] - 1s 33ms/step - loss: 3.1532e-04\n",
            "Epoch 19/100\n",
            "38/38 [==============================] - 1s 34ms/step - loss: 3.6694e-04\n",
            "Epoch 20/100\n",
            "38/38 [==============================] - 1s 35ms/step - loss: 3.0683e-04\n",
            "Epoch 21/100\n",
            "38/38 [==============================] - 1s 37ms/step - loss: 2.6711e-04\n",
            "Epoch 22/100\n",
            "38/38 [==============================] - 1s 34ms/step - loss: 3.2947e-04\n",
            "Epoch 23/100\n",
            "38/38 [==============================] - 1s 38ms/step - loss: 2.7805e-04\n",
            "Epoch 24/100\n",
            "38/38 [==============================] - 1s 39ms/step - loss: 3.1211e-04\n",
            "Epoch 25/100\n",
            "38/38 [==============================] - 2s 50ms/step - loss: 3.1154e-04\n",
            "Epoch 26/100\n",
            "38/38 [==============================] - 1s 23ms/step - loss: 2.9911e-04\n",
            "Epoch 27/100\n",
            "38/38 [==============================] - 1s 17ms/step - loss: 2.9220e-04\n",
            "Epoch 28/100\n",
            "38/38 [==============================] - 1s 16ms/step - loss: 2.6714e-04\n",
            "Epoch 29/100\n",
            "38/38 [==============================] - 1s 17ms/step - loss: 2.8076e-04\n",
            "Epoch 30/100\n",
            "38/38 [==============================] - 1s 17ms/step - loss: 3.0447e-04\n",
            "Epoch 31/100\n",
            "38/38 [==============================] - 1s 17ms/step - loss: 2.7878e-04\n",
            "Epoch 32/100\n",
            "38/38 [==============================] - 1s 17ms/step - loss: 2.6203e-04\n",
            "Epoch 33/100\n",
            "38/38 [==============================] - 1s 17ms/step - loss: 2.6321e-04\n",
            "Epoch 34/100\n",
            "38/38 [==============================] - 1s 17ms/step - loss: 2.5164e-04\n",
            "Epoch 35/100\n",
            "38/38 [==============================] - 1s 17ms/step - loss: 3.7983e-04\n",
            "Epoch 36/100\n",
            "38/38 [==============================] - 1s 17ms/step - loss: 3.4485e-04\n",
            "Epoch 37/100\n",
            "38/38 [==============================] - 1s 16ms/step - loss: 2.4619e-04\n",
            "Epoch 38/100\n",
            "38/38 [==============================] - 1s 17ms/step - loss: 2.6784e-04\n",
            "Epoch 39/100\n",
            "38/38 [==============================] - 1s 17ms/step - loss: 2.3290e-04\n",
            "Epoch 40/100\n",
            "38/38 [==============================] - 1s 17ms/step - loss: 2.3137e-04\n",
            "Epoch 41/100\n",
            "38/38 [==============================] - 1s 21ms/step - loss: 2.2457e-04\n",
            "Epoch 42/100\n",
            "38/38 [==============================] - 1s 28ms/step - loss: 2.7089e-04\n",
            "Epoch 43/100\n",
            "38/38 [==============================] - 1s 28ms/step - loss: 2.3793e-04\n",
            "Epoch 44/100\n",
            "38/38 [==============================] - 1s 17ms/step - loss: 2.3025e-04\n",
            "Epoch 45/100\n",
            "38/38 [==============================] - 1s 17ms/step - loss: 2.3463e-04\n",
            "Epoch 46/100\n",
            "38/38 [==============================] - 1s 17ms/step - loss: 2.2758e-04\n",
            "Epoch 47/100\n",
            "38/38 [==============================] - 1s 17ms/step - loss: 2.2788e-04\n",
            "Epoch 48/100\n",
            "38/38 [==============================] - 1s 17ms/step - loss: 2.8195e-04\n",
            "Epoch 49/100\n",
            "38/38 [==============================] - 1s 17ms/step - loss: 2.2501e-04\n",
            "Epoch 50/100\n",
            "38/38 [==============================] - 1s 17ms/step - loss: 2.2081e-04\n",
            "Epoch 51/100\n",
            "38/38 [==============================] - 1s 17ms/step - loss: 2.3251e-04\n",
            "Epoch 52/100\n",
            "38/38 [==============================] - 1s 17ms/step - loss: 2.1491e-04\n",
            "Epoch 53/100\n",
            "38/38 [==============================] - 1s 16ms/step - loss: 2.9693e-04\n",
            "Epoch 54/100\n",
            "38/38 [==============================] - 1s 17ms/step - loss: 2.7996e-04\n",
            "Epoch 55/100\n",
            "38/38 [==============================] - 1s 17ms/step - loss: 2.9259e-04\n",
            "Epoch 56/100\n",
            "38/38 [==============================] - 1s 17ms/step - loss: 2.0496e-04\n",
            "Epoch 57/100\n",
            "38/38 [==============================] - 1s 17ms/step - loss: 2.1171e-04\n",
            "Epoch 58/100\n",
            "38/38 [==============================] - 1s 17ms/step - loss: 2.2092e-04\n",
            "Epoch 59/100\n",
            "38/38 [==============================] - 1s 26ms/step - loss: 2.2733e-04\n",
            "Epoch 60/100\n",
            "38/38 [==============================] - 1s 29ms/step - loss: 2.3581e-04\n",
            "Epoch 61/100\n",
            "38/38 [==============================] - 1s 21ms/step - loss: 2.0821e-04\n",
            "Epoch 62/100\n",
            "38/38 [==============================] - 1s 17ms/step - loss: 1.9279e-04\n",
            "Epoch 63/100\n",
            "38/38 [==============================] - 1s 17ms/step - loss: 2.5449e-04\n",
            "Epoch 64/100\n",
            "38/38 [==============================] - 1s 17ms/step - loss: 2.6154e-04\n",
            "Epoch 65/100\n",
            "38/38 [==============================] - 1s 17ms/step - loss: 2.9392e-04\n",
            "Epoch 66/100\n",
            "38/38 [==============================] - 1s 18ms/step - loss: 2.6308e-04\n",
            "Epoch 67/100\n",
            "38/38 [==============================] - 1s 17ms/step - loss: 2.2240e-04\n",
            "Epoch 68/100\n",
            "38/38 [==============================] - 1s 17ms/step - loss: 2.2355e-04\n",
            "Epoch 69/100\n",
            "38/38 [==============================] - 1s 17ms/step - loss: 2.3841e-04\n",
            "Epoch 70/100\n",
            "38/38 [==============================] - 1s 17ms/step - loss: 2.0091e-04\n",
            "Epoch 71/100\n",
            "38/38 [==============================] - 1s 25ms/step - loss: 2.0797e-04\n",
            "Epoch 72/100\n",
            "38/38 [==============================] - 1s 18ms/step - loss: 2.1286e-04\n",
            "Epoch 73/100\n",
            "38/38 [==============================] - 1s 18ms/step - loss: 2.6317e-04\n",
            "Epoch 74/100\n",
            "38/38 [==============================] - 1s 17ms/step - loss: 2.2754e-04\n",
            "Epoch 75/100\n",
            "38/38 [==============================] - 1s 17ms/step - loss: 2.2994e-04\n",
            "Epoch 76/100\n",
            "38/38 [==============================] - 1s 30ms/step - loss: 2.1663e-04\n",
            "Epoch 77/100\n",
            "38/38 [==============================] - 1s 28ms/step - loss: 2.1364e-04\n",
            "Epoch 78/100\n",
            "38/38 [==============================] - 1s 20ms/step - loss: 1.9333e-04\n",
            "Epoch 79/100\n",
            "38/38 [==============================] - 1s 17ms/step - loss: 1.8553e-04\n",
            "Epoch 80/100\n",
            "38/38 [==============================] - 1s 18ms/step - loss: 1.9298e-04\n",
            "Epoch 81/100\n",
            "38/38 [==============================] - 1s 17ms/step - loss: 2.3159e-04\n",
            "Epoch 82/100\n",
            "38/38 [==============================] - 1s 21ms/step - loss: 2.7975e-04\n",
            "Epoch 83/100\n",
            "38/38 [==============================] - 1s 29ms/step - loss: 3.4099e-04\n",
            "Epoch 84/100\n",
            "38/38 [==============================] - 1s 28ms/step - loss: 2.2945e-04\n",
            "Epoch 85/100\n",
            "38/38 [==============================] - 1s 18ms/step - loss: 2.1576e-04\n",
            "Epoch 86/100\n",
            "38/38 [==============================] - 1s 17ms/step - loss: 2.1120e-04\n",
            "Epoch 87/100\n",
            "38/38 [==============================] - 1s 18ms/step - loss: 2.8366e-04\n",
            "Epoch 88/100\n",
            "38/38 [==============================] - 1s 17ms/step - loss: 1.9282e-04\n",
            "Epoch 89/100\n",
            "38/38 [==============================] - 1s 16ms/step - loss: 1.9258e-04\n",
            "Epoch 90/100\n",
            "38/38 [==============================] - 1s 17ms/step - loss: 2.1835e-04\n",
            "Epoch 91/100\n",
            "38/38 [==============================] - 1s 18ms/step - loss: 2.2218e-04\n",
            "Epoch 92/100\n",
            "38/38 [==============================] - 1s 28ms/step - loss: 1.8723e-04\n",
            "Epoch 93/100\n",
            "38/38 [==============================] - 1s 29ms/step - loss: 2.1059e-04\n",
            "Epoch 94/100\n",
            "38/38 [==============================] - 1s 19ms/step - loss: 1.8032e-04\n",
            "Epoch 95/100\n",
            "38/38 [==============================] - 1s 18ms/step - loss: 1.7744e-04\n",
            "Epoch 96/100\n",
            "38/38 [==============================] - 1s 17ms/step - loss: 1.8502e-04\n",
            "Epoch 97/100\n",
            "38/38 [==============================] - 1s 17ms/step - loss: 1.9903e-04\n",
            "Epoch 98/100\n",
            "38/38 [==============================] - 1s 17ms/step - loss: 1.8199e-04\n",
            "Epoch 99/100\n",
            "38/38 [==============================] - 1s 17ms/step - loss: 1.8389e-04\n",
            "Epoch 100/100\n",
            "38/38 [==============================] - 1s 18ms/step - loss: 2.3893e-04\n"
          ]
        },
        {
          "output_type": "execute_result",
          "data": {
            "text/plain": [
              "<keras.src.callbacks.History at 0x7f0a334b1ea0>"
            ]
          },
          "metadata": {},
          "execution_count": 16
        }
      ]
    },
    {
      "cell_type": "code",
      "source": [
        "dataset_test = pd.read_csv('testset.csv')\n"
      ],
      "metadata": {
        "id": "MJhI9u1LE7Os"
      },
      "execution_count": null,
      "outputs": []
    },
    {
      "cell_type": "code",
      "source": [
        "test_set = dataset_test.iloc[:,1:2].values"
      ],
      "metadata": {
        "id": "-s9z4S8yGmgE"
      },
      "execution_count": null,
      "outputs": []
    },
    {
      "cell_type": "code",
      "source": [
        "test_set.shape"
      ],
      "metadata": {
        "colab": {
          "base_uri": "https://localhost:8080/"
        },
        "id": "avff860jE8p7",
        "outputId": "fa077652-5ff1-4f47-b744-db039004890b"
      },
      "execution_count": null,
      "outputs": [
        {
          "output_type": "execute_result",
          "data": {
            "text/plain": [
              "(125, 1)"
            ]
          },
          "metadata": {},
          "execution_count": 30
        }
      ]
    },
    {
      "cell_type": "code",
      "source": [
        "dataset_total = pd.concat((dataset_train['Open'],dataset_test['Open']),axis=0)"
      ],
      "metadata": {
        "id": "4vdTfOFvFiWS"
      },
      "execution_count": null,
      "outputs": []
    },
    {
      "cell_type": "code",
      "source": [
        "inputs = dataset_total.values\n",
        "inputs = inputs.reshape(-1,1)\n",
        "inputs_scaled=sc.transform(inputs)\n",
        "X_test = []\n",
        "for i in range(60,1384):\n",
        "  X_test.append(inputs_scaled[i-60:i,0])\n",
        "X_test = np.array(X_test)\n",
        "X_test = np.reshape(X_test,(X_test.shape[0], X_test.shape[1],1))"
      ],
      "metadata": {
        "id": "5LUQ3dEXFjvF"
      },
      "execution_count": null,
      "outputs": []
    },
    {
      "cell_type": "code",
      "source": [
        "X_test.shape"
      ],
      "metadata": {
        "colab": {
          "base_uri": "https://localhost:8080/"
        },
        "id": "N82xMQz0FlyC",
        "outputId": "1d2ad1d5-e506-42c5-d75d-3e33f58c8648"
      },
      "execution_count": null,
      "outputs": [
        {
          "output_type": "execute_result",
          "data": {
            "text/plain": [
              "(1324, 60, 1)"
            ]
          },
          "metadata": {},
          "execution_count": 33
        }
      ]
    },
    {
      "cell_type": "code",
      "source": [
        "predicted_stock_price_scaled = model.predict(X_test)\n",
        "predicted_stock_price = sc.inverse_transform(predicted_stock_price_scaled)"
      ],
      "metadata": {
        "colab": {
          "base_uri": "https://localhost:8080/"
        },
        "id": "2sl6cwVmFn5K",
        "outputId": "c0965eb3-1af4-430c-c270-7f214e1b48e8"
      },
      "execution_count": null,
      "outputs": [
        {
          "output_type": "stream",
          "name": "stdout",
          "text": [
            "42/42 [==============================] - 0s 7ms/step\n"
          ]
        }
      ]
    },
    {
      "cell_type": "code",
      "source": [
        "print(\"Name: DEVADARSHAN A S       Register Number: 212222110007 \")\n",
        "plt.plot(np.arange(0,1384),inputs, color='red', label = 'Test(Real) Google stock price')\n",
        "plt.plot(np.arange(60,1384),predicted_stock_price, color='blue', label = 'Predicted Google stock price')\n",
        "plt.title('Google Stock Price Prediction')\n",
        "plt.xlabel('Time')\n",
        "plt.ylabel('Google Stock Price')\n",
        "plt.legend()\n",
        "plt.show()"
      ],
      "metadata": {
        "colab": {
          "base_uri": "https://localhost:8080/",
          "height": 489
        },
        "id": "xpN4mNuHFpm3",
        "outputId": "41a344a0-ecd1-4e80-f122-228b1cb8fab3"
      },
      "execution_count": null,
      "outputs": [
        {
          "output_type": "stream",
          "name": "stdout",
          "text": [
            "Name: DEVADARSHAN A S       Register Number: 212222110007 \n"
          ]
        },
        {
          "output_type": "display_data",
          "data": {
            "text/plain": [
              "<Figure size 640x480 with 1 Axes>"
            ],
            "image/png": "[encoded data removed]"
          },
          "metadata": {}
        }
      ]
    },
    {
      "cell_type": "code",
      "source": [],
      "metadata": {
        "id": "ajpSzdgFFxna"
      },
      "execution_count": null,
      "outputs": []
    }
  ]
}
